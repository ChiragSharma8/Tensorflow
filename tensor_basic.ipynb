{
 "cells": [
  {
   "cell_type": "markdown",
   "metadata": {},
   "source": [
    "## Basic Tensor Operations using Tensorflow V2"
   ]
  },
  {
   "cell_type": "code",
   "execution_count": 3,
   "metadata": {},
   "outputs": [],
   "source": [
    "import tensorflow as tf\n",
    "#import numpy as np"
   ]
  },
  {
   "cell_type": "code",
   "execution_count": 2,
   "metadata": {},
   "outputs": [],
   "source": [
    "# Define tensor constants.\n",
    "a = tf.constant(2)\n",
    "b = tf.constant(3)\n",
    "c = tf.constant(5)"
   ]
  },
  {
   "cell_type": "code",
   "execution_count": 7,
   "metadata": {},
   "outputs": [
    {
     "name": "stdout",
     "output_type": "stream",
     "text": [
      "addtion =  5\n",
      "multipy =  15\n",
      "subtract =  3\n",
      "divide =  0.6666666666666666\n"
     ]
    }
   ],
   "source": [
    "# Various tensor operations\n",
    "\n",
    "add = tf.add(a,b)\n",
    "mul = tf.multiply(b,c)\n",
    "sub = tf.subtract(c,a)\n",
    "div = tf.divide(a,b)\n",
    "\n",
    "print(\"addtion = \", add.numpy())\n",
    "print(\"multipy = \", mul.numpy())\n",
    "print(\"subtract = \", sub.numpy())\n",
    "print(\"divide = \", div.numpy())"
   ]
  },
  {
   "cell_type": "code",
   "execution_count": 11,
   "metadata": {},
   "outputs": [
    {
     "name": "stdout",
     "output_type": "stream",
     "text": [
      "mean =  3\n",
      "prod =  30\n"
     ]
    }
   ],
   "source": [
    "# Some more operations\n",
    "\n",
    "'''https://www.tensorflow.org/api_docs/python/tf/math/reduce_std'''\n",
    "\n",
    "mean = tf.reduce_mean([a,b,c])\n",
    "prod = tf.reduce_prod([a,b,c])\n",
    "\n",
    "print(\"mean = \", mean.numpy())\n",
    "print(\"prod = \", std.numpy())"
   ]
  },
  {
   "cell_type": "code",
   "execution_count": 12,
   "metadata": {},
   "outputs": [],
   "source": [
    "# Matrix multiplications.\n",
    "\n",
    "M1 = tf.constant([[2,6,8], [5,8,3], [2,9,5]])\n",
    "\n",
    "M2 = tf.constant([[3,9,1], [4,8,2], [5,1,9]])\n",
    "\n",
    "product = tf.matmul(M1, M2)"
   ]
  },
  {
   "cell_type": "code",
   "execution_count": 13,
   "metadata": {},
   "outputs": [
    {
     "data": {
      "text/plain": [
       "<tf.Tensor: shape=(3, 3), dtype=int32, numpy=\n",
       "array([[ 70,  74,  86],\n",
       "       [ 62, 112,  48],\n",
       "       [ 67,  95,  65]], dtype=int32)>"
      ]
     },
     "execution_count": 13,
     "metadata": {},
     "output_type": "execute_result"
    }
   ],
   "source": [
    "# Display Tensor\n",
    "product"
   ]
  },
  {
   "cell_type": "code",
   "execution_count": 14,
   "metadata": {},
   "outputs": [
    {
     "data": {
      "text/plain": [
       "array([[ 70,  74,  86],\n",
       "       [ 62, 112,  48],\n",
       "       [ 67,  95,  65]], dtype=int32)"
      ]
     },
     "execution_count": 14,
     "metadata": {},
     "output_type": "execute_result"
    }
   ],
   "source": [
    "# using numpy\n",
    "product.numpy()"
   ]
  },
  {
   "cell_type": "code",
   "execution_count": 18,
   "metadata": {},
   "outputs": [
    {
     "name": "stdout",
     "output_type": "stream",
     "text": [
      "tf.Tensor(b'Hello World', shape=(), dtype=string)\n",
      "b'Hello World'\n"
     ]
    }
   ],
   "source": [
    "# creating Tnesor\n",
    "\n",
    "hello = tf.constant(\"Hello World\")\n",
    "print(hello)\n"
   ]
  },
  {
   "cell_type": "code",
   "execution_count": 19,
   "metadata": {},
   "outputs": [
    {
     "name": "stdout",
     "output_type": "stream",
     "text": [
      "b'Hello World'\n"
     ]
    }
   ],
   "source": [
    "# to access the tensor value, call numpy()\n",
    "print(hello.numpy())"
   ]
  },
  {
   "cell_type": "code",
   "execution_count": null,
   "metadata": {},
   "outputs": [],
   "source": []
  },
  {
   "cell_type": "code",
   "execution_count": null,
   "metadata": {},
   "outputs": [],
   "source": []
  },
  {
   "cell_type": "code",
   "execution_count": null,
   "metadata": {},
   "outputs": [],
   "source": []
  },
  {
   "cell_type": "code",
   "execution_count": null,
   "metadata": {},
   "outputs": [],
   "source": []
  }
 ],
 "metadata": {
  "kernelspec": {
   "display_name": "Python 3",
   "language": "python",
   "name": "python3"
  },
  "language_info": {
   "codemirror_mode": {
    "name": "ipython",
    "version": 3
   },
   "file_extension": ".py",
   "mimetype": "text/x-python",
   "name": "python",
   "nbconvert_exporter": "python",
   "pygments_lexer": "ipython3",
   "version": "3.8.3"
  }
 },
 "nbformat": 4,
 "nbformat_minor": 4
}
